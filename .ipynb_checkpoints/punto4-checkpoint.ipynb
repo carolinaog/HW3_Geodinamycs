{
 "metadata": {
  "name": "",
  "signature": "sha256:594daa5784a6c086d48f9d3fb0a8e1a9f8218a392ecd6f57d0d0800ba3eb630d"
 },
 "nbformat": 3,
 "nbformat_minor": 0,
 "worksheets": [
  {
   "cells": [
    {
     "cell_type": "heading",
     "level": 1,
     "metadata": {},
     "source": [
      "HW3, Problem #4. Estimation of Rayleigh number for the case of whole mantle convection"
     ]
    },
    {
     "cell_type": "code",
     "collapsed": false,
     "input": [
      "%pylab inline\n"
     ],
     "language": "python",
     "metadata": {},
     "outputs": [
      {
       "output_type": "stream",
       "stream": "stdout",
       "text": [
        "Populating the interactive namespace from numpy and matplotlib\n"
       ]
      }
     ],
     "prompt_number": 1
    },
    {
     "cell_type": "code",
     "collapsed": false,
     "input": [
      "alpha=(3*(10**-5)) #coefficient of thermal expansion (1/k)\n",
      "g= 10 #gravitational acceleration m/s^2\n",
      "DeltaT= 1500 #Temperature difference accross layer K\n",
      "d3= (700000)**3 #thickness of convecting layer whole mantle=2700km\n",
      "v= 10**(21) #cinematic viscocity Pa*s\n",
      "k= 1*(10**-6) #thermal diffusivity mm^2 s\n",
      "rho= 3700 #kg/m^3\n",
      "\n",
      "Ra=(alpha*g*DeltaT*d3*rho)/(v*k)\n",
      "Nu=0.12*(Ra**(0.33))\n",
      "print Ra\n",
      "print Nu"
     ],
     "language": "python",
     "metadata": {},
     "outputs": [
      {
       "output_type": "stream",
       "stream": "stdout",
       "text": [
        "571095.0\n",
        "9.52565842075\n"
       ]
      }
     ],
     "prompt_number": 5
    },
    {
     "cell_type": "heading",
     "level": 2,
     "metadata": {},
     "source": [
      "Ra: 571095.0, Nu: 9.52565842075"
     ]
    },
    {
     "cell_type": "code",
     "collapsed": false,
     "input": [
      "#The ratio of the convective heat flow across the layer q to the heat flow qc that conduction would transport.\n",
      "print Nu"
     ],
     "language": "python",
     "metadata": {},
     "outputs": [],
     "prompt_number": 28
    },
    {
     "cell_type": "code",
     "collapsed": false,
     "input": [
      "k2=4\n",
      "q=k2*DeltaT*Nu/700000\n",
      "print q"
     ],
     "language": "python",
     "metadata": {},
     "outputs": [
      {
       "output_type": "stream",
       "stream": "stdout",
       "text": [
        "0.0816485007493\n"
       ]
      }
     ],
     "prompt_number": 29
    },
    {
     "cell_type": "heading",
     "level": 2,
     "metadata": {},
     "source": [
      "Heat flow: q: 0.082 W\n"
     ]
    },
    {
     "cell_type": "code",
     "collapsed": false,
     "input": [],
     "language": "python",
     "metadata": {},
     "outputs": []
    }
   ],
   "metadata": {}
  }
 ]
}
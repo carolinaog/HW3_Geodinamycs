{
 "metadata": {
  "name": "",
  "signature": "sha256:e36b8800c6671b5e0792f6ba11d3444ca679c1bd9498a67bda12c40266a43bc0"
 },
 "nbformat": 3,
 "nbformat_minor": 0,
 "worksheets": [
  {
   "cells": [
    {
     "cell_type": "code",
     "collapsed": false,
     "input": [
      "%pylab inline\n"
     ],
     "language": "python",
     "metadata": {},
     "outputs": [
      {
       "output_type": "stream",
       "stream": "stdout",
       "text": [
        "Populating the interactive namespace from numpy and matplotlib\n"
       ]
      }
     ],
     "prompt_number": 1
    },
    {
     "cell_type": "code",
     "collapsed": false,
     "input": [
      "alpha=(3*(10**5)) #coefficient of thermal expansion\n",
      "#g= 9.8 #gravitational acceleration m/s\n",
      "#Outer_core_temp= 5000 #Kelvin\n",
      "#DeltaT= #Temperature difference accross layer\n",
      "d3= 2700*(10**3)#thickness of convecting layer whole mantle=2700km\n",
      "#v= #cinematic viscocity\n",
      "#k= #thermal diffusivity\n",
      "\n"
     ],
     "language": "python",
     "metadata": {},
     "outputs": [],
     "prompt_number": 21
    },
    {
     "cell_type": "code",
     "collapsed": false,
     "input": [
      "d3"
     ],
     "language": "python",
     "metadata": {},
     "outputs": [
      {
       "metadata": {},
       "output_type": "pyout",
       "prompt_number": 23,
       "text": [
        "2700000"
       ]
      }
     ],
     "prompt_number": 23
    },
    {
     "cell_type": "code",
     "collapsed": false,
     "input": [],
     "language": "python",
     "metadata": {},
     "outputs": []
    }
   ],
   "metadata": {}
  }
 ]
}